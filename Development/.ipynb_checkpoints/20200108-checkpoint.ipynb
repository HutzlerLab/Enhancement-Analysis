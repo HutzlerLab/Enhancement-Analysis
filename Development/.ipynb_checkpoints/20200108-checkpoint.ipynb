{
 "cells": [
  {
   "cell_type": "code",
   "execution_count": 1,
   "metadata": {},
   "outputs": [],
   "source": [
    "import numpy as np\n",
    "import matplotlib.pyplot as plt\n",
    "import fit_functions as f\n",
    "import data_analysis_functions as d"
   ]
  },
  {
   "cell_type": "code",
   "execution_count": 2,
   "metadata": {},
   "outputs": [],
   "source": [
    "import pathlib"
   ]
  },
  {
   "cell_type": "code",
   "execution_count": 3,
   "metadata": {},
   "outputs": [],
   "source": [
    "def gen_path(path_string):\n",
    "    '''Input string should be an absolute filepath. Generates a pathlib filepath from the string'''\n",
    "    path = pathlib.Path(path_string)\n",
    "    return path"
   ]
  },
  {
   "cell_type": "code",
   "execution_count": 4,
   "metadata": {},
   "outputs": [],
   "source": [
    "def import_raw_data_PXI(filepath,header_lines = 30):\n",
    "    '''Imports raw traces from data columns in single PXI text file.\n",
    "    Input is file path.'''\n",
    "    try:\n",
    "        arr = np.genfromtxt(filepath,delimiter='', skip_header = header_lines)\n",
    "        raw_data = [ch for ch in arr.T]\n",
    "    except ValueError:\n",
    "        print('Issues with file located at: ',filepath)\n",
    "        raw_data = [np.zeros(10000),np.zeros(10000)]\n",
    "    except OSError:\n",
    "        print('Issues with file located at: ',filepath)\n",
    "        raw_data = [np.zeros(10000),np.zeros(10000)]\n",
    "    return raw_data"
   ]
  },
  {
   "cell_type": "code",
   "execution_count": 5,
   "metadata": {},
   "outputs": [],
   "source": [
    "def read_raw_file(path_str,print_bool=False):\n",
    "    '''From a single file location, obtain dataset with raw data and metadata.\n",
    "    For full info, see documentation of process_single_data_file().\n",
    "    '''\n",
    "    filepath = gen_path(path_str)\n",
    "    if print_bool:\n",
    "        print(filepath)\n",
    "    data = import_raw_data_PXI(filepath)\n",
    "    meta = import_metadata_PXI(filepath)\n",
    "    return [data,meta]"
   ]
  },
  {
   "cell_type": "code",
   "execution_count": 16,
   "metadata": {},
   "outputs": [],
   "source": [
    "def split_strip(string):\n",
    "    return string.split(':')[-1].strip(';')\n",
    "\n",
    "def import_metadata_PXI(filepath):\n",
    "    '''Import metadata parameters from Cleverscope file.\n",
    "\n",
    "    Parameters returned as dict:\n",
    "    dt: time step of data traces (ms)\n",
    "    start: start time of data traces, relative to trigger (ms)\n",
    "    nsample: number of elements in time series\n",
    "    trigtime: UNIX time of trigger\n",
    "    '''\n",
    "    with open(filepath, 'r') as f:\n",
    "        lines=[]\n",
    "        for i in range(30):\n",
    "            lines.append(f.readline().strip('\\n'))\n",
    "    meta={}\n",
    "    for text in lines:\n",
    "        if 'cycle number' in text:\n",
    "            meta['cycle number'] = int(split_strip(text))\n",
    "        if 'iteration' in text:\n",
    "            meta['iteration'] = int(split_strip(text))\n",
    "        if 'command file' in text: \n",
    "            #note the path usually also includes a ':', so split_strip() will just drop the drive in the path\n",
    "            meta['command file'] = split_strip(text)\n",
    "        if 'comment' in text:\n",
    "            meta['comment'] = text.split(':')[1]\n",
    "        if 'wavenumber' in text:\n",
    "            if '(cm-1):' in text:\n",
    "                meta['frequency'] = float(text.split('(cm-1):')[-1].strip(';'))\n",
    "            else:\n",
    "                meta['frequency'] = float(text.split('(cm-1)')[-1].strip(';'))\n",
    "        if 'Channels' in text:\n",
    "            meta['channels'] = int(text.strip('\\t').split('\\t')[-1])\n",
    "        if 'Samples' in text:\n",
    "            meta['samples'] = [int(x) for x in text.strip('Samples').strip('\\t').split('\\t')]\n",
    "        if 'Time' in text:\n",
    "            meta['trigtime'] = text.strip('Time').strip('\\t').split('\\t')\n",
    "        if 'Delta_X' in text:\n",
    "            meta['dt'] = [float(x) for x in text.strip('Delta_X').strip('\\t').split('\\t')]\n",
    "        if 'X0' in text:\n",
    "            meta['t0'] = [float(x) for x in text.strip('X0').strip('\\t').split('\\t')]\n",
    "#     params={}\n",
    "#     for text in lines:\n",
    "#         if 'delta' in text:\n",
    "#             dt_ms = np.round(float(text.split('\\t')[1].strip())*10**3,decimals=6)\n",
    "#             params['dt']=dt_ms\n",
    "#         elif 'start' in text:\n",
    "#             start_ms = np.round(float(text.split('\\t')[1].strip())*10**3,decimals = 6)\n",
    "#             params['start']=start_ms\n",
    "#         elif 'nsample' in text:\n",
    "#             nsample = int(float(text.split('\\t')[1].strip()))\n",
    "#             params['nsample']=nsample\n",
    "#         elif 'TriggerTime' in text:\n",
    "#             # The time is given as the number of days since 12/29/1899 11:00:00 UTC\n",
    "#             # We can convert this to UNIX by subtracting 2209208400 seconds\n",
    "#             # Ask Arian if you are curious\n",
    "#             time_sec = float(text.split('\\t')[1].strip())*24*3600 #convert days to seconds\n",
    "#             time_unix = time_sec - 2209208400\n",
    "#             params['trigtime']=time_unix\n",
    "    return meta,lines"
   ]
  },
  {
   "cell_type": "code",
   "execution_count": 17,
   "metadata": {},
   "outputs": [
    {
     "name": "stdout",
     "output_type": "stream",
     "text": [
      "C:\\Users\\main\\OrangeBeamSource\\Arian\\20200108\\raw\\bendingscan11_1_001.txt\n"
     ]
    }
   ],
   "source": [
    "path = r'C:\\Users\\main\\OrangeBeamSource\\Arian\\20200108\\raw\\bendingscan11_1_001.txt'\n",
    "print(path)"
   ]
  },
  {
   "cell_type": "code",
   "execution_count": 18,
   "metadata": {},
   "outputs": [],
   "source": [
    "data,[meta,l] = read_raw_file(path)"
   ]
  },
  {
   "cell_type": "code",
   "execution_count": 14,
   "metadata": {},
   "outputs": [
    {
     "data": {
      "text/plain": [
       "'channel 1 is YbOH ground; channel 2 is Yb; channel 3 is YbOH bending;'"
      ]
     },
     "execution_count": 14,
     "metadata": {},
     "output_type": "execute_result"
    }
   ],
   "source": [
    "meta['comment']"
   ]
  },
  {
   "cell_type": "code",
   "execution_count": 15,
   "metadata": {},
   "outputs": [
    {
     "data": {
      "text/plain": [
       "[<matplotlib.lines.Line2D at 0x1dd353d6400>]"
      ]
     },
     "execution_count": 15,
     "metadata": {},
     "output_type": "execute_result"
    },
    {
     "data": {
      "image/png": "[encoded data removed]",
      "text/plain": [
       "<Figure size 432x288 with 1 Axes>"
      ]
     },
     "metadata": {
      "needs_background": "light"
     },
     "output_type": "display_data"
    }
   ],
   "source": [
    "plt.plot(data[0])"
   ]
  },
  {
   "cell_type": "code",
   "execution_count": null,
   "metadata": {},
   "outputs": [],
   "source": []
  }
 ],
 "metadata": {
  "kernelspec": {
   "display_name": "Python 3",
   "language": "python",
   "name": "python3"
  },
  "language_info": {
   "codemirror_mode": {
    "name": "ipython",
    "version": 3
   },
   "file_extension": ".py",
   "mimetype": "text/x-python",
   "name": "python",
   "nbconvert_exporter": "python",
   "pygments_lexer": "ipython3",
   "version": "3.7.1"
  }
 },
 "nbformat": 4,
 "nbformat_minor": 2
}
